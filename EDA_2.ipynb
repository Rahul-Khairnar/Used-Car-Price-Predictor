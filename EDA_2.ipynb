{
  "nbformat": 4,
  "nbformat_minor": 0,
  "metadata": {
    "colab": {
      "name": "EDA 2.ipynb",
      "provenance": [],
      "collapsed_sections": []
    },
    "kernelspec": {
      "name": "python3",
      "display_name": "Python 3"
    }
  },
  "cells": [
    {
      "cell_type": "markdown",
      "metadata": {
        "id": "3zgGw1OS43q_",
        "colab_type": "text"
      },
      "source": [
        "# IMPORTING ALL THE MODULES"
      ]
    },
    {
      "cell_type": "code",
      "metadata": {
        "id": "lU4bVtym1CDF",
        "colab_type": "code",
        "colab": {}
      },
      "source": [
        "import pandas as pd\n",
        "import matplotlib \n",
        "from matplotlib import pyplot as plt\n",
        "import seaborn as sns"
      ],
      "execution_count": 114,
      "outputs": []
    },
    {
      "cell_type": "markdown",
      "metadata": {
        "id": "gRYnGG554-Fo",
        "colab_type": "text"
      },
      "source": [
        "# IMPORTING THE CLEANED DATA"
      ]
    },
    {
      "cell_type": "code",
      "metadata": {
        "id": "RpvWJt8P2yFI",
        "colab_type": "code",
        "colab": {
          "base_uri": "https://localhost:8080/",
          "height": 411
        },
        "outputId": "b583e803-5e21-458a-8cd0-c765abed899d"
      },
      "source": [
        "df = pd.read_csv(\"Cleaned_data.csv\")\n",
        "df.head()"
      ],
      "execution_count": 115,
      "outputs": [
        {
          "output_type": "execute_result",
          "data": {
            "text/html": [
              "<div>\n",
              "<style scoped>\n",
              "    .dataframe tbody tr th:only-of-type {\n",
              "        vertical-align: middle;\n",
              "    }\n",
              "\n",
              "    .dataframe tbody tr th {\n",
              "        vertical-align: top;\n",
              "    }\n",
              "\n",
              "    .dataframe thead th {\n",
              "        text-align: right;\n",
              "    }\n",
              "</style>\n",
              "<table border=\"1\" class=\"dataframe\">\n",
              "  <thead>\n",
              "    <tr style=\"text-align: right;\">\n",
              "      <th></th>\n",
              "      <th>Unnamed: 0</th>\n",
              "      <th>Name</th>\n",
              "      <th>Location</th>\n",
              "      <th>Year</th>\n",
              "      <th>Kilometers_Driven</th>\n",
              "      <th>Fuel_Type</th>\n",
              "      <th>Transmission</th>\n",
              "      <th>Owner_Type</th>\n",
              "      <th>Mileage</th>\n",
              "      <th>Engine</th>\n",
              "      <th>Power</th>\n",
              "      <th>Seats</th>\n",
              "      <th>Price</th>\n",
              "    </tr>\n",
              "  </thead>\n",
              "  <tbody>\n",
              "    <tr>\n",
              "      <th>0</th>\n",
              "      <td>0</td>\n",
              "      <td>Maruti Wagon R LXI CNG</td>\n",
              "      <td>Mumbai</td>\n",
              "      <td>2010</td>\n",
              "      <td>72000</td>\n",
              "      <td>Others</td>\n",
              "      <td>Manual</td>\n",
              "      <td>First</td>\n",
              "      <td>26.6 km/kg</td>\n",
              "      <td>998 CC</td>\n",
              "      <td>58.16 bhp</td>\n",
              "      <td>5.0</td>\n",
              "      <td>1.75</td>\n",
              "    </tr>\n",
              "    <tr>\n",
              "      <th>1</th>\n",
              "      <td>1</td>\n",
              "      <td>Hyundai Creta 1.6 CRDi SX Option</td>\n",
              "      <td>Pune</td>\n",
              "      <td>2015</td>\n",
              "      <td>41000</td>\n",
              "      <td>Diesel</td>\n",
              "      <td>Manual</td>\n",
              "      <td>First</td>\n",
              "      <td>19.67 kmpl</td>\n",
              "      <td>1582 CC</td>\n",
              "      <td>126.2 bhp</td>\n",
              "      <td>5.0</td>\n",
              "      <td>12.50</td>\n",
              "    </tr>\n",
              "    <tr>\n",
              "      <th>2</th>\n",
              "      <td>2</td>\n",
              "      <td>Honda Jazz V</td>\n",
              "      <td>Chennai</td>\n",
              "      <td>2011</td>\n",
              "      <td>46000</td>\n",
              "      <td>Petrol</td>\n",
              "      <td>Manual</td>\n",
              "      <td>First</td>\n",
              "      <td>18.2 kmpl</td>\n",
              "      <td>1199 CC</td>\n",
              "      <td>88.7 bhp</td>\n",
              "      <td>5.0</td>\n",
              "      <td>4.50</td>\n",
              "    </tr>\n",
              "    <tr>\n",
              "      <th>3</th>\n",
              "      <td>3</td>\n",
              "      <td>Maruti Ertiga VDI</td>\n",
              "      <td>Chennai</td>\n",
              "      <td>2012</td>\n",
              "      <td>87000</td>\n",
              "      <td>Diesel</td>\n",
              "      <td>Manual</td>\n",
              "      <td>First</td>\n",
              "      <td>20.77 kmpl</td>\n",
              "      <td>1248 CC</td>\n",
              "      <td>88.76 bhp</td>\n",
              "      <td>7.0</td>\n",
              "      <td>6.00</td>\n",
              "    </tr>\n",
              "    <tr>\n",
              "      <th>4</th>\n",
              "      <td>4</td>\n",
              "      <td>Audi A4 New 2.0 TDI Multitronic</td>\n",
              "      <td>Coimbatore</td>\n",
              "      <td>2013</td>\n",
              "      <td>40670</td>\n",
              "      <td>Diesel</td>\n",
              "      <td>Automatic</td>\n",
              "      <td>Second or More</td>\n",
              "      <td>15.2 kmpl</td>\n",
              "      <td>1968 CC</td>\n",
              "      <td>140.8 bhp</td>\n",
              "      <td>5.0</td>\n",
              "      <td>17.74</td>\n",
              "    </tr>\n",
              "  </tbody>\n",
              "</table>\n",
              "</div>"
            ],
            "text/plain": [
              "   Unnamed: 0                              Name  ... Seats  Price\n",
              "0           0            Maruti Wagon R LXI CNG  ...   5.0   1.75\n",
              "1           1  Hyundai Creta 1.6 CRDi SX Option  ...   5.0  12.50\n",
              "2           2                      Honda Jazz V  ...   5.0   4.50\n",
              "3           3                 Maruti Ertiga VDI  ...   7.0   6.00\n",
              "4           4   Audi A4 New 2.0 TDI Multitronic  ...   5.0  17.74\n",
              "\n",
              "[5 rows x 13 columns]"
            ]
          },
          "metadata": {
            "tags": []
          },
          "execution_count": 115
        }
      ]
    },
    {
      "cell_type": "code",
      "metadata": {
        "id": "lx8Lzfk0X6Uk",
        "colab_type": "code",
        "colab": {
          "base_uri": "https://localhost:8080/",
          "height": 34
        },
        "outputId": "3750e659-b7dd-4ffc-a0a3-f606ca392ff7"
      },
      "source": [
        "df.shape"
      ],
      "execution_count": 116,
      "outputs": [
        {
          "output_type": "execute_result",
          "data": {
            "text/plain": [
              "(5177, 13)"
            ]
          },
          "metadata": {
            "tags": []
          },
          "execution_count": 116
        }
      ]
    },
    {
      "cell_type": "markdown",
      "metadata": {
        "id": "t2zVAM7x5DzS",
        "colab_type": "text"
      },
      "source": [
        "CHECKING FOR THE NULL VALUES"
      ]
    },
    {
      "cell_type": "code",
      "metadata": {
        "id": "hG2UseVCU9JU",
        "colab_type": "code",
        "colab": {
          "base_uri": "https://localhost:8080/",
          "height": 255
        },
        "outputId": "5e0459d5-b34a-473d-d435-d7f2f1cfdae4"
      },
      "source": [
        "df.isnull().sum()"
      ],
      "execution_count": 117,
      "outputs": [
        {
          "output_type": "execute_result",
          "data": {
            "text/plain": [
              "Unnamed: 0            0\n",
              "Name                  0\n",
              "Location              0\n",
              "Year                  0\n",
              "Kilometers_Driven     0\n",
              "Fuel_Type             0\n",
              "Transmission          0\n",
              "Owner_Type            0\n",
              "Mileage               0\n",
              "Engine               26\n",
              "Power                26\n",
              "Seats                30\n",
              "Price                 0\n",
              "dtype: int64"
            ]
          },
          "metadata": {
            "tags": []
          },
          "execution_count": 117
        }
      ]
    },
    {
      "cell_type": "code",
      "metadata": {
        "id": "4z8ZYDKMXQrL",
        "colab_type": "code",
        "colab": {}
      },
      "source": [
        "df1 = df.dropna()"
      ],
      "execution_count": 118,
      "outputs": []
    },
    {
      "cell_type": "code",
      "metadata": {
        "id": "M1Ta7J7aXI5h",
        "colab_type": "code",
        "colab": {
          "base_uri": "https://localhost:8080/",
          "height": 255
        },
        "outputId": "d9511110-5440-4094-fee7-0b283acf481f"
      },
      "source": [
        "df1.isna().sum()"
      ],
      "execution_count": 119,
      "outputs": [
        {
          "output_type": "execute_result",
          "data": {
            "text/plain": [
              "Unnamed: 0           0\n",
              "Name                 0\n",
              "Location             0\n",
              "Year                 0\n",
              "Kilometers_Driven    0\n",
              "Fuel_Type            0\n",
              "Transmission         0\n",
              "Owner_Type           0\n",
              "Mileage              0\n",
              "Engine               0\n",
              "Power                0\n",
              "Seats                0\n",
              "Price                0\n",
              "dtype: int64"
            ]
          },
          "metadata": {
            "tags": []
          },
          "execution_count": 119
        }
      ]
    },
    {
      "cell_type": "code",
      "metadata": {
        "id": "0qbFwohBX2C5",
        "colab_type": "code",
        "colab": {
          "base_uri": "https://localhost:8080/",
          "height": 34
        },
        "outputId": "2e37ad0b-220d-43cb-91fa-981e3b789d8a"
      },
      "source": [
        "df1.shape"
      ],
      "execution_count": 120,
      "outputs": [
        {
          "output_type": "execute_result",
          "data": {
            "text/plain": [
              "(5147, 13)"
            ]
          },
          "metadata": {
            "tags": []
          },
          "execution_count": 120
        }
      ]
    },
    {
      "cell_type": "markdown",
      "metadata": {
        "id": "msf9wiP_5IfF",
        "colab_type": "text"
      },
      "source": [
        "CONVERTING THE MILEAGE COLUMN TO NUMBER ONLY FORMAT"
      ]
    },
    {
      "cell_type": "code",
      "metadata": {
        "id": "At50dhcZZKJj",
        "colab_type": "code",
        "colab": {
          "base_uri": "https://localhost:8080/",
          "height": 241
        },
        "outputId": "2993fc97-a517-42b8-d06d-39e15393bcbe"
      },
      "source": [
        "df1[\"Mileage\"] = df1[\"Mileage\"].apply(lambda x:x.split(\" \")[0])\n",
        "df1[\"Mileage\"].head()"
      ],
      "execution_count": 121,
      "outputs": [
        {
          "output_type": "stream",
          "text": [
            "/usr/local/lib/python3.6/dist-packages/ipykernel_launcher.py:1: SettingWithCopyWarning: \n",
            "A value is trying to be set on a copy of a slice from a DataFrame.\n",
            "Try using .loc[row_indexer,col_indexer] = value instead\n",
            "\n",
            "See the caveats in the documentation: https://pandas.pydata.org/pandas-docs/stable/user_guide/indexing.html#returning-a-view-versus-a-copy\n",
            "  \"\"\"Entry point for launching an IPython kernel.\n"
          ],
          "name": "stderr"
        },
        {
          "output_type": "execute_result",
          "data": {
            "text/plain": [
              "0     26.6\n",
              "1    19.67\n",
              "2     18.2\n",
              "3    20.77\n",
              "4     15.2\n",
              "Name: Mileage, dtype: object"
            ]
          },
          "metadata": {
            "tags": []
          },
          "execution_count": 121
        }
      ]
    },
    {
      "cell_type": "markdown",
      "metadata": {
        "id": "GYKcfxBj5M1u",
        "colab_type": "text"
      },
      "source": [
        "CONVERTING THE ENGINE COLUMN TO NUMBER ONLY FORMAT"
      ]
    },
    {
      "cell_type": "code",
      "metadata": {
        "id": "AkEvQM-2Yrg5",
        "colab_type": "code",
        "colab": {
          "base_uri": "https://localhost:8080/",
          "height": 241
        },
        "outputId": "033e497a-3ee1-4430-d1ca-42fc709f74d4"
      },
      "source": [
        "df1[\"Engine\"] = df1[\"Engine\"].apply(lambda x:int(str(x).split(\" \")[0]))\n",
        "df1[\"Engine\"].head()"
      ],
      "execution_count": 122,
      "outputs": [
        {
          "output_type": "stream",
          "text": [
            "/usr/local/lib/python3.6/dist-packages/ipykernel_launcher.py:1: SettingWithCopyWarning: \n",
            "A value is trying to be set on a copy of a slice from a DataFrame.\n",
            "Try using .loc[row_indexer,col_indexer] = value instead\n",
            "\n",
            "See the caveats in the documentation: https://pandas.pydata.org/pandas-docs/stable/user_guide/indexing.html#returning-a-view-versus-a-copy\n",
            "  \"\"\"Entry point for launching an IPython kernel.\n"
          ],
          "name": "stderr"
        },
        {
          "output_type": "execute_result",
          "data": {
            "text/plain": [
              "0     998\n",
              "1    1582\n",
              "2    1199\n",
              "3    1248\n",
              "4    1968\n",
              "Name: Engine, dtype: int64"
            ]
          },
          "metadata": {
            "tags": []
          },
          "execution_count": 122
        }
      ]
    },
    {
      "cell_type": "markdown",
      "metadata": {
        "id": "U-C4c3-t5QXi",
        "colab_type": "text"
      },
      "source": [
        "CONVERTING THE POWER COLUMN TO NUMBER ONLY FORMAT"
      ]
    },
    {
      "cell_type": "code",
      "metadata": {
        "id": "lT5GY9spZQQv",
        "colab_type": "code",
        "colab": {
          "base_uri": "https://localhost:8080/",
          "height": 241
        },
        "outputId": "d0b7dc61-b153-422a-a1b1-394b13636638"
      },
      "source": [
        "df1[\"Power\"] = df1[\"Power\"].apply(lambda x:x.split(\" \")[0]) \n",
        "df1[\"Power\"].head()"
      ],
      "execution_count": 123,
      "outputs": [
        {
          "output_type": "stream",
          "text": [
            "/usr/local/lib/python3.6/dist-packages/ipykernel_launcher.py:1: SettingWithCopyWarning: \n",
            "A value is trying to be set on a copy of a slice from a DataFrame.\n",
            "Try using .loc[row_indexer,col_indexer] = value instead\n",
            "\n",
            "See the caveats in the documentation: https://pandas.pydata.org/pandas-docs/stable/user_guide/indexing.html#returning-a-view-versus-a-copy\n",
            "  \"\"\"Entry point for launching an IPython kernel.\n"
          ],
          "name": "stderr"
        },
        {
          "output_type": "execute_result",
          "data": {
            "text/plain": [
              "0    58.16\n",
              "1    126.2\n",
              "2     88.7\n",
              "3    88.76\n",
              "4    140.8\n",
              "Name: Power, dtype: object"
            ]
          },
          "metadata": {
            "tags": []
          },
          "execution_count": 123
        }
      ]
    },
    {
      "cell_type": "markdown",
      "metadata": {
        "id": "9cypj7yb5Vcu",
        "colab_type": "text"
      },
      "source": [
        "# FINAL DATA FRAME"
      ]
    },
    {
      "cell_type": "code",
      "metadata": {
        "id": "euJBjlEpZqCx",
        "colab_type": "code",
        "colab": {
          "base_uri": "https://localhost:8080/",
          "height": 411
        },
        "outputId": "60b0dd69-b84c-41e5-b49a-da5d476c8ee1"
      },
      "source": [
        "df1.head()"
      ],
      "execution_count": 124,
      "outputs": [
        {
          "output_type": "execute_result",
          "data": {
            "text/html": [
              "<div>\n",
              "<style scoped>\n",
              "    .dataframe tbody tr th:only-of-type {\n",
              "        vertical-align: middle;\n",
              "    }\n",
              "\n",
              "    .dataframe tbody tr th {\n",
              "        vertical-align: top;\n",
              "    }\n",
              "\n",
              "    .dataframe thead th {\n",
              "        text-align: right;\n",
              "    }\n",
              "</style>\n",
              "<table border=\"1\" class=\"dataframe\">\n",
              "  <thead>\n",
              "    <tr style=\"text-align: right;\">\n",
              "      <th></th>\n",
              "      <th>Unnamed: 0</th>\n",
              "      <th>Name</th>\n",
              "      <th>Location</th>\n",
              "      <th>Year</th>\n",
              "      <th>Kilometers_Driven</th>\n",
              "      <th>Fuel_Type</th>\n",
              "      <th>Transmission</th>\n",
              "      <th>Owner_Type</th>\n",
              "      <th>Mileage</th>\n",
              "      <th>Engine</th>\n",
              "      <th>Power</th>\n",
              "      <th>Seats</th>\n",
              "      <th>Price</th>\n",
              "    </tr>\n",
              "  </thead>\n",
              "  <tbody>\n",
              "    <tr>\n",
              "      <th>0</th>\n",
              "      <td>0</td>\n",
              "      <td>Maruti Wagon R LXI CNG</td>\n",
              "      <td>Mumbai</td>\n",
              "      <td>2010</td>\n",
              "      <td>72000</td>\n",
              "      <td>Others</td>\n",
              "      <td>Manual</td>\n",
              "      <td>First</td>\n",
              "      <td>26.6</td>\n",
              "      <td>998</td>\n",
              "      <td>58.16</td>\n",
              "      <td>5.0</td>\n",
              "      <td>1.75</td>\n",
              "    </tr>\n",
              "    <tr>\n",
              "      <th>1</th>\n",
              "      <td>1</td>\n",
              "      <td>Hyundai Creta 1.6 CRDi SX Option</td>\n",
              "      <td>Pune</td>\n",
              "      <td>2015</td>\n",
              "      <td>41000</td>\n",
              "      <td>Diesel</td>\n",
              "      <td>Manual</td>\n",
              "      <td>First</td>\n",
              "      <td>19.67</td>\n",
              "      <td>1582</td>\n",
              "      <td>126.2</td>\n",
              "      <td>5.0</td>\n",
              "      <td>12.50</td>\n",
              "    </tr>\n",
              "    <tr>\n",
              "      <th>2</th>\n",
              "      <td>2</td>\n",
              "      <td>Honda Jazz V</td>\n",
              "      <td>Chennai</td>\n",
              "      <td>2011</td>\n",
              "      <td>46000</td>\n",
              "      <td>Petrol</td>\n",
              "      <td>Manual</td>\n",
              "      <td>First</td>\n",
              "      <td>18.2</td>\n",
              "      <td>1199</td>\n",
              "      <td>88.7</td>\n",
              "      <td>5.0</td>\n",
              "      <td>4.50</td>\n",
              "    </tr>\n",
              "    <tr>\n",
              "      <th>3</th>\n",
              "      <td>3</td>\n",
              "      <td>Maruti Ertiga VDI</td>\n",
              "      <td>Chennai</td>\n",
              "      <td>2012</td>\n",
              "      <td>87000</td>\n",
              "      <td>Diesel</td>\n",
              "      <td>Manual</td>\n",
              "      <td>First</td>\n",
              "      <td>20.77</td>\n",
              "      <td>1248</td>\n",
              "      <td>88.76</td>\n",
              "      <td>7.0</td>\n",
              "      <td>6.00</td>\n",
              "    </tr>\n",
              "    <tr>\n",
              "      <th>4</th>\n",
              "      <td>4</td>\n",
              "      <td>Audi A4 New 2.0 TDI Multitronic</td>\n",
              "      <td>Coimbatore</td>\n",
              "      <td>2013</td>\n",
              "      <td>40670</td>\n",
              "      <td>Diesel</td>\n",
              "      <td>Automatic</td>\n",
              "      <td>Second or More</td>\n",
              "      <td>15.2</td>\n",
              "      <td>1968</td>\n",
              "      <td>140.8</td>\n",
              "      <td>5.0</td>\n",
              "      <td>17.74</td>\n",
              "    </tr>\n",
              "  </tbody>\n",
              "</table>\n",
              "</div>"
            ],
            "text/plain": [
              "   Unnamed: 0                              Name  ... Seats  Price\n",
              "0           0            Maruti Wagon R LXI CNG  ...   5.0   1.75\n",
              "1           1  Hyundai Creta 1.6 CRDi SX Option  ...   5.0  12.50\n",
              "2           2                      Honda Jazz V  ...   5.0   4.50\n",
              "3           3                 Maruti Ertiga VDI  ...   7.0   6.00\n",
              "4           4   Audi A4 New 2.0 TDI Multitronic  ...   5.0  17.74\n",
              "\n",
              "[5 rows x 13 columns]"
            ]
          },
          "metadata": {
            "tags": []
          },
          "execution_count": 124
        }
      ]
    },
    {
      "cell_type": "code",
      "metadata": {
        "id": "XUny_N7geHUp",
        "colab_type": "code",
        "colab": {}
      },
      "source": [
        "df2 = df1.drop(\"Unnamed: 0\",axis = 1)\n",
        "df_corr = df2.corr()"
      ],
      "execution_count": 144,
      "outputs": []
    },
    {
      "cell_type": "markdown",
      "metadata": {
        "id": "rBSL7B9R5ZFN",
        "colab_type": "text"
      },
      "source": [
        "HEAT MAP TO CHECK FOR CORRELATIONS"
      ]
    },
    {
      "cell_type": "code",
      "metadata": {
        "id": "hU3ptjeRfFQL",
        "colab_type": "code",
        "colab": {
          "base_uri": "https://localhost:8080/",
          "height": 282
        },
        "outputId": "f0d27ad6-50a0-4470-fdd1-db876290b6f0"
      },
      "source": [
        "cmap = sns.diverging_palette(220,2,as_cmap = True)\n",
        "map = sns.heatmap(df_corr, linewidth = 1.0,cmap = cmap, annot = True)\n",
        "plt.title(\"Heat Map\")\n",
        "plt.show(map)"
      ],
      "execution_count": 148,
      "outputs": [
        {
          "output_type": "display_data",
          "data": {
            "image/png": "[encoded data removed]",
            "text/plain": [
              "<Figure size 432x288 with 2 Axes>"
            ]
          },
          "metadata": {
            "tags": [],
            "needs_background": "light"
          }
        }
      ]
    },
    {
      "cell_type": "markdown",
      "metadata": {
        "id": "R0_IygAJ5dId",
        "colab_type": "text"
      },
      "source": [
        "TOP LOCATIONS"
      ]
    },
    {
      "cell_type": "code",
      "metadata": {
        "id": "5tiJ275OPRHH",
        "colab_type": "code",
        "colab": {
          "base_uri": "https://localhost:8080/",
          "height": 421
        },
        "outputId": "e5f210b6-dd4a-442a-8fba-0c90bf4d5190"
      },
      "source": [
        "locations = df2[\"Location\"].value_counts()[:7]\n",
        "fig = plt.figure()\n",
        "ax = fig.add_axes([0,0,0.8,1])\n",
        "locations_india = locations.index\n",
        "freq = locations\n",
        "chart = sns.barplot(x = locations_india,y = freq)\n",
        "chart.set_xticklabels(chart.get_xticklabels(), rotation = 45)\n",
        "sns.barplot(x = locations_india,y = freq)\n",
        "plt.xlabel(\"Top Locations\")\n",
        "plt.ylabel(\"Count\")\n",
        "plt.title(\"Top Locations\")"
      ],
      "execution_count": 161,
      "outputs": [
        {
          "output_type": "execute_result",
          "data": {
            "text/plain": [
              "Text(0.5, 1.0, 'Top Locations')"
            ]
          },
          "metadata": {
            "tags": []
          },
          "execution_count": 161
        },
        {
          "output_type": "display_data",
          "data": {
            "image/png": "[encoded data removed]",
            "text/plain": [
              "<Figure size 432x288 with 1 Axes>"
            ]
          },
          "metadata": {
            "tags": [],
            "needs_background": "light"
          }
        }
      ]
    },
    {
      "cell_type": "markdown",
      "metadata": {
        "id": "CiKwrnbe5geY",
        "colab_type": "text"
      },
      "source": [
        "EXTRACTING BRANDS FROM MODEL NAMES"
      ]
    },
    {
      "cell_type": "code",
      "metadata": {
        "id": "DUe8rKWcznPh",
        "colab_type": "code",
        "colab": {
          "base_uri": "https://localhost:8080/",
          "height": 204
        },
        "outputId": "a0a36a83-9b8d-46d9-ab9f-f9a0cab6ba21"
      },
      "source": [
        "Brands = df2[\"Name\"].apply(lambda x:x.split(\" \")[0])\n",
        "brand_counts = Brands.value_counts()[:10]\n",
        "brand_counts"
      ],
      "execution_count": 190,
      "outputs": [
        {
          "output_type": "execute_result",
          "data": {
            "text/plain": [
              "Maruti           1095\n",
              "Hyundai           998\n",
              "Honda             556\n",
              "Toyota            361\n",
              "Volkswagen        284\n",
              "Mercedes-Benz     274\n",
              "Ford              240\n",
              "BMW               223\n",
              "Audi              216\n",
              "Mahindra          200\n",
              "Name: Name, dtype: int64"
            ]
          },
          "metadata": {
            "tags": []
          },
          "execution_count": 190
        }
      ]
    },
    {
      "cell_type": "markdown",
      "metadata": {
        "id": "Tx9yWcgw5lUg",
        "colab_type": "text"
      },
      "source": [
        "TOP BRANDS"
      ]
    },
    {
      "cell_type": "code",
      "metadata": {
        "id": "rDPxFuixy9rU",
        "colab_type": "code",
        "colab": {
          "base_uri": "https://localhost:8080/",
          "height": 434
        },
        "outputId": "073a0ac6-a9cf-49df-8aee-1deddbb0a8c7"
      },
      "source": [
        "Brand_names = df2[\"Name\"].apply(lambda x:x.split(\" \")[0])\n",
        "brands = Brand_names.value_counts()[:10]\n",
        "fig = plt.figure()\n",
        "ax = fig.add_axes([0,0,0.8,1])\n",
        "brand_count = brands.index\n",
        "freq = brands\n",
        "chart = sns.barplot(x = brand_count,y = freq)\n",
        "chart.set_xticklabels(chart.get_xticklabels(), rotation = 45)\n",
        "sns.barplot(x = brand_count,y = freq)\n",
        "plt.xlabel(\"Top selling brands\")\n",
        "plt.ylabel(\"Count\")\n",
        "plt.title(\"Top selling brands\")"
      ],
      "execution_count": 202,
      "outputs": [
        {
          "output_type": "execute_result",
          "data": {
            "text/plain": [
              "Text(0.5, 1.0, 'Top selling brands')"
            ]
          },
          "metadata": {
            "tags": []
          },
          "execution_count": 202
        },
        {
          "output_type": "display_data",
          "data": {
            "image/png": "[encoded data removed]",
            "text/plain": [
              "<Figure size 432x288 with 1 Axes>"
            ]
          },
          "metadata": {
            "tags": [],
            "needs_background": "light"
          }
        }
      ]
    },
    {
      "cell_type": "markdown",
      "metadata": {
        "id": "cwnMC5Zw5nbz",
        "colab_type": "text"
      },
      "source": [
        "TOP BRANDS"
      ]
    },
    {
      "cell_type": "code",
      "metadata": {
        "id": "VnUHah8gQS5y",
        "colab_type": "code",
        "colab": {
          "base_uri": "https://localhost:8080/",
          "height": 476
        },
        "outputId": "8dc3e243-046a-40dd-d58e-91bd5727fb45"
      },
      "source": [
        "models = df2[\"Name\"].value_counts()[:10]\n",
        "fig = plt.figure()\n",
        "ax = fig.add_axes([0,0,0.8,1])\n",
        "models_count = models.index\n",
        "freq = models\n",
        "chart = sns.barplot(x = models_count,y = freq)\n",
        "chart.set_xticklabels(chart.get_xticklabels(), rotation = 45)\n",
        "sns.barplot(x = models_count,y = freq)\n",
        "plt.xlabel(\"Top Selling Car Models\")\n",
        "plt.ylabel(\"Count\")\n",
        "plt.title(\"Top selling car models\")"
      ],
      "execution_count": 160,
      "outputs": [
        {
          "output_type": "execute_result",
          "data": {
            "text/plain": [
              "Text(0.5, 1.0, 'Top selling car models')"
            ]
          },
          "metadata": {
            "tags": []
          },
          "execution_count": 160
        },
        {
          "output_type": "display_data",
          "data": {
            "image/png": "[encoded data removed]",
            "text/plain": [
              "<Figure size 432x288 with 1 Axes>"
            ]
          },
          "metadata": {
            "tags": [],
            "needs_background": "light"
          }
        }
      ]
    },
    {
      "cell_type": "markdown",
      "metadata": {
        "id": "epdpCWlN5pSZ",
        "colab_type": "text"
      },
      "source": [
        "TRANSMISSION TYPES"
      ]
    },
    {
      "cell_type": "code",
      "metadata": {
        "id": "GIriMqWhSn9c",
        "colab_type": "code",
        "colab": {
          "base_uri": "https://localhost:8080/",
          "height": 383
        },
        "outputId": "a8016058-6a55-4d98-a2a0-d8bbc1f9a578"
      },
      "source": [
        "auto_manual = df2[\"Transmission\"].value_counts()\n",
        "fig = plt.figure()\n",
        "ax = fig.add_axes([0,0,0.8,1])\n",
        "transmission = auto_manual.index\n",
        "freq = auto_manual\n",
        "chart = sns.barplot(x = transmission,y = freq)\n",
        "chart.set_xticklabels(chart.get_xticklabels())\n",
        "sns.barplot(x = transmission,y = freq)\n",
        "plt.xlabel(\"Types of transmissions\")\n",
        "plt.ylabel(\"Count\")\n",
        "plt.title(\"Transmission Count Distribution\")"
      ],
      "execution_count": 163,
      "outputs": [
        {
          "output_type": "execute_result",
          "data": {
            "text/plain": [
              "Text(0.5, 1.0, 'Transmission Count Distribution')"
            ]
          },
          "metadata": {
            "tags": []
          },
          "execution_count": 163
        },
        {
          "output_type": "display_data",
          "data": {
            "image/png": "[encoded data removed]",
            "text/plain": [
              "<Figure size 432x288 with 1 Axes>"
            ]
          },
          "metadata": {
            "tags": [],
            "needs_background": "light"
          }
        }
      ]
    },
    {
      "cell_type": "markdown",
      "metadata": {
        "id": "b6UEMoWw5x4a",
        "colab_type": "text"
      },
      "source": [
        "DISTRIBUTION OF PRICES ACROSS VARIOUS MODELS OF CAR"
      ]
    },
    {
      "cell_type": "code",
      "metadata": {
        "id": "F7yEBtd-WPei",
        "colab_type": "code",
        "colab": {
          "base_uri": "https://localhost:8080/",
          "height": 312
        },
        "outputId": "ec2a4b4a-6f51-4ff5-cdcf-467a5e9aa955"
      },
      "source": [
        "sns.distplot(df2[\"Price\"])\n",
        "plt.title(\"Distribution of Prices\")"
      ],
      "execution_count": 181,
      "outputs": [
        {
          "output_type": "execute_result",
          "data": {
            "text/plain": [
              "Text(0.5, 1.0, 'Distribution of Prices')"
            ]
          },
          "metadata": {
            "tags": []
          },
          "execution_count": 181
        },
        {
          "output_type": "display_data",
          "data": {
            "image/png": "[encoded data removed]",
            "text/plain": [
              "<Figure size 432x288 with 1 Axes>"
            ]
          },
          "metadata": {
            "tags": [],
            "needs_background": "light"
          }
        }
      ]
    },
    {
      "cell_type": "markdown",
      "metadata": {
        "id": "tpF6YaY755kO",
        "colab_type": "text"
      },
      "source": [
        "FUEL TYPES"
      ]
    },
    {
      "cell_type": "code",
      "metadata": {
        "id": "ZlqgycIgWw1K",
        "colab_type": "code",
        "colab": {
          "base_uri": "https://localhost:8080/",
          "height": 404
        },
        "outputId": "17d752cb-2b85-40af-93f7-2667a0a2dc79"
      },
      "source": [
        "fuels = df2[\"Fuel_Type\"].value_counts()\n",
        "fig = plt.figure()\n",
        "ax = fig.add_axes([0,0,0.8,1])\n",
        "fuels_count = fuels.index\n",
        "freq = fuels\n",
        "chart = sns.barplot(x = fuels_count,y = freq)\n",
        "chart.set_xticklabels(chart.get_xticklabels(), rotation = 45)\n",
        "sns.barplot(x = fuels_count,y = freq)\n",
        "plt.xlabel(\"Fuel used\")\n",
        "plt.ylabel(\"Count\")\n",
        "plt.title(\"Top used Fuel\")"
      ],
      "execution_count": 184,
      "outputs": [
        {
          "output_type": "execute_result",
          "data": {
            "text/plain": [
              "Text(0.5, 1.0, 'Top used Fuel')"
            ]
          },
          "metadata": {
            "tags": []
          },
          "execution_count": 184
        },
        {
          "output_type": "display_data",
          "data": {
            "image/png": "[encoded data removed]",
            "text/plain": [
              "<Figure size 432x288 with 1 Axes>"
            ]
          },
          "metadata": {
            "tags": [],
            "needs_background": "light"
          }
        }
      ]
    },
    {
      "cell_type": "code",
      "metadata": {
        "id": "bGFkXexh6BX6",
        "colab_type": "code",
        "colab": {
          "base_uri": "https://localhost:8080/",
          "height": 391
        },
        "outputId": "bbc62560-04ca-49ca-e740-80f1ef863b4e"
      },
      "source": [
        "seats = df2[\"Seats\"].value_counts()\n",
        "fig = plt.figure()\n",
        "ax = fig.add_axes([0,0,0.8,1])\n",
        "seat_count = seats.index\n",
        "freq = seats\n",
        "chart = sns.barplot(x = seat_count,y = freq)\n",
        "chart.set_xticklabels(chart.get_xticklabels(), rotation = 45)\n",
        "sns.barplot(x = seat_count,y = freq)\n",
        "plt.xlabel(\"Fuel used\")\n",
        "plt.ylabel(\"Count\")\n",
        "plt.title(\"Top used Fuel\")"
      ],
      "execution_count": 204,
      "outputs": [
        {
          "output_type": "execute_result",
          "data": {
            "text/plain": [
              "Text(0.5, 1.0, 'Top used Fuel')"
            ]
          },
          "metadata": {
            "tags": []
          },
          "execution_count": 204
        },
        {
          "output_type": "display_data",
          "data": {
            "image/png": "[encoded data removed]",
            "text/plain": [
              "<Figure size 432x288 with 1 Axes>"
            ]
          },
          "metadata": {
            "tags": [],
            "needs_background": "light"
          }
        }
      ]
    }
  ]
}